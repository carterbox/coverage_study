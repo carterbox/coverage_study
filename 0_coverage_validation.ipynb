{
 "cells": [
  {
   "cell_type": "code",
   "execution_count": 1,
   "metadata": {},
   "outputs": [],
   "source": [
    "from xdesign import *\n",
    "import numpy as np\n",
    "import matplotlib.pyplot as plt\n",
    "import scipy.ndimage.interpolation as sni\n",
    "\n",
    "SMALL_SIZE = 8\n",
    "MEDIUM_SIZE = 8\n",
    "BIGGER_SIZE = 8\n",
    "\n",
    "plt.rc('font', size=SMALL_SIZE)          # controls default text sizes\n",
    "plt.rc('axes', titlesize=SMALL_SIZE)     # fontsize of the axes title\n",
    "plt.rc('axes', labelsize=MEDIUM_SIZE)    # fontsize of the x and y labels\n",
    "plt.rc('xtick', labelsize=SMALL_SIZE)    # fontsize of the tick labels\n",
    "plt.rc('ytick', labelsize=SMALL_SIZE)    # fontsize of the tick labels\n",
    "plt.rc('legend', fontsize=SMALL_SIZE)    # legend fontsize\n",
    "plt.rc('figure', titlesize=BIGGER_SIZE)  # fontsize of the figure title"
   ]
  },
  {
   "cell_type": "markdown",
   "metadata": {},
   "source": [
    "# Validating coverage approximation function\n",
    "\n",
    "In order to calculate procedure coverage we are using an approximation which uses a Riemann sum to approximate the intersection of each pixel in the coverage map and the beam. We need to determine how the size of Riemann rectangles affects the uncertainty of the coverage map.\n",
    "\n",
    "## Methods\n",
    "\n",
    "We will change the number of Riemann rectangles per voxel and view the effect on the coverage magnitude of the uniformly covered region in the center of the field of view."
   ]
  },
  {
   "cell_type": "code",
   "execution_count": 2,
   "metadata": {},
   "outputs": [],
   "source": [
    "def circle_density(x, y, radius):\n",
    "    \"\"\"Return True for (x,y) contained by the circle with given radius\"\"\"\n",
    "    return x**2 + y**2 <= radius**2\n",
    "\n",
    "def get_mask(A):\n",
    "    \"\"\"Return a boolean mask for dimensions 0 & 1 of A\"\"\"\n",
    "    assert A.shape[0] == A.shape[1]\n",
    "    radius = A.shape[1] / 2.0 - 1\n",
    "    coords = np.arange(A.shape[1]) - A.shape[1] / 2.0 + 0.5,\n",
    "    x, y = np.meshgrid(coords, coords)\n",
    "    mask = circle_density(x, y, radius)\n",
    "    return mask"
   ]
  },
  {
   "cell_type": "code",
   "execution_count": 3,
   "metadata": {},
   "outputs": [],
   "source": [
    "num_angles = 127\n",
    "theta, h, v = np.meshgrid(np.linspace(0, np.pi, num_angles, endpoint=False),\n",
    "                          np.linspace(-0.5, 0.5, 32, endpoint=False) + 1/32/2,\n",
    "                          [0])"
   ]
  },
  {
   "cell_type": "code",
   "execution_count": 4,
   "metadata": {},
   "outputs": [],
   "source": [
    "coverage_map = coverage_approx(gmin=[-0.5, -0.5], gsize=[1, 1], ngrid=[32, 32],\n",
    "                               probe_size=1/32, theta=theta, h=h, v=v)"
   ]
  },
  {
   "cell_type": "code",
   "execution_count": 5,
   "metadata": {},
   "outputs": [
    {
     "data": {
      "text/plain": [
       "(32, 32)"
      ]
     },
     "execution_count": 5,
     "metadata": {},
     "output_type": "execute_result"
    }
   ],
   "source": [
    "mask = get_mask(coverage_map)\n",
    "mask.shape"
   ]
  },
  {
   "cell_type": "code",
   "execution_count": 6,
   "metadata": {},
   "outputs": [
    {
     "data": {
      "image/png": "[encoded data removed]",
      "text/plain": [
       "<matplotlib.figure.Figure at 0x7f97a399b1d0>"
      ]
     },
     "metadata": {},
     "output_type": "display_data"
    }
   ],
   "source": [
    "cm = coverage_map[...,0]\n",
    "cm[~mask] = np.nan\n",
    "plt.figure()\n",
    "plt.imshow(cm)\n",
    "plt.colorbar()\n",
    "plt.show()"
   ]
  },
  {
   "cell_type": "markdown",
   "metadata": {},
   "source": [
    "# Actual Experiment"
   ]
  },
  {
   "cell_type": "code",
   "execution_count": 7,
   "metadata": {},
   "outputs": [],
   "source": [
    "# Choose the range to test each parameter\n",
    "num_riemann = np.arange(1,32)\n",
    "means = np.full([len(num_riemann)], np.nan)\n",
    "std = np.full([len(num_riemann)], np.nan)"
   ]
  },
  {
   "cell_type": "code",
   "execution_count": 8,
   "metadata": {
    "scrolled": true
   },
   "outputs": [
    {
     "name": "stdout",
     "output_type": "stream",
     "text": [
      "-9.81351689127e-06 0.0125100121727\n",
      "-9.81351689105e-06 0.0125100121727\n",
      "-4.39441315151e-05 0.00482299167793\n",
      "-6.18724310235e-06 0.00350126480853\n",
      "-6.72854894459e-06 0.00272269923454\n",
      "-3.08881259028e-06 0.00215535902661\n",
      "-1.15079939521e-05 0.00188111560697\n",
      "-4.85351443951e-07 0.00159313246783\n",
      "-3.76128579742e-06 0.00139827059323\n",
      "1.12415991013e-06 0.00129864686531\n",
      "-7.44691654888e-07 0.00114078449431\n",
      "-4.93517189334e-06 0.0010568603013\n",
      "-1.70814227464e-06 0.000958237196966\n",
      "-7.12966891338e-07 0.000894178196726\n",
      "-4.51863006048e-07 0.000846883081471\n",
      "-1.77494520771e-06 0.000785174833573\n",
      "-4.86109946122e-07 0.000742766323731\n",
      "5.20953120815e-07 0.000697993374354\n",
      "-7.58813369589e-07 0.00066542020353\n",
      "-1.40722428908e-06 0.000630263603629\n",
      "-3.30313391498e-07 0.000584050132435\n",
      "-6.53088114149e-07 0.000572592001369\n",
      "-1.50174544555e-06 0.000544466409819\n",
      "-4.85522934119e-07 0.000524606935617\n",
      "-3.56531127647e-07 0.000502904301205\n",
      "-3.77291121129e-07 0.000486990755962\n",
      "-1.02658364319e-06 0.000465206058599\n",
      "-1.52487620951e-08 0.000448170128432\n",
      "-9.37398681895e-07 0.00043561041074\n",
      "-5.23108099329e-07 0.000415374838902\n",
      "-1.20756263509e-07 0.000405383628886\n"
     ]
    }
   ],
   "source": [
    "# Generate the data. It may already exist in /data/validation\n",
    "for A in range(len(num_riemann)):\n",
    "\n",
    "    coverage_map = coverage_approx(gmin=[-0.5, -0.5], gsize=[1, 1], ngrid=[32, 32],\n",
    "                                   probe_size=1/32, theta=theta, h=h, v=v,\n",
    "                                   num_rays=num_riemann[A])\n",
    "    \n",
    "    cm = coverage_map[...,0]\n",
    "    cm[~mask] = np.nan\n",
    "\n",
    "    error = (coverage_map - num_angles) / num_angles\n",
    "    means[A] = np.nanmean(error)\n",
    "    std[A] = np.nanstd(error)\n",
    "    print(means[A], std[A])\n",
    "    \n",
    "np.save('./data/new_coverage_validation_means', means)\n",
    "np.save('./data/new_coverage_validation_std', std)"
   ]
  },
  {
   "cell_type": "markdown",
   "metadata": {},
   "source": [
    "# Plot the results"
   ]
  },
  {
   "cell_type": "markdown",
   "metadata": {
    "collapsed": true
   },
   "source": [
    "## Draw a Riemann sum figure\n",
    "\n",
    "Draw a schmatic of the Riemann appoximation used for the coverage function."
   ]
  },
  {
   "cell_type": "code",
   "execution_count": 77,
   "metadata": {},
   "outputs": [
    {
     "data": {
      "image/png": "[encoded data removed]",
      "text/plain": [
       "<matplotlib.figure.Figure at 0x7f97952cff98>"
      ]
     },
     "metadata": {},
     "output_type": "display_data"
    }
   ],
   "source": [
    "def Riemann_model():\n",
    "    import matplotlib.patches as patch\n",
    "\n",
    "    axis = plt.gca()\n",
    "\n",
    "    pixel = patch.Rectangle([.2,.2], .6, .6, fill=True, color='#6a79f7')\n",
    "    axis.add_patch(pixel)\n",
    "\n",
    "    pixel = patch.Rectangle([.4,.16], .1, .33, angle=45, fill=True, facecolor='#95d0fc', edgecolor='yellow')\n",
    "    axis.add_patch(pixel)\n",
    "\n",
    "    pixel = patch.Rectangle([.54,.16], .1, .53, angle=45, fill=True, facecolor='#95d0fc', edgecolor='yellow')\n",
    "    axis.add_patch(pixel)\n",
    "\n",
    "    pixel = patch.Rectangle([.68,.16], .1, .73, angle=45, fill=True, facecolor='#95d0fc', edgecolor='yellow')\n",
    "    axis.add_patch(pixel)\n",
    "\n",
    "    pixel = patch.Rectangle([.96,-.4], .3, 3, angle=45, fill=False, color='yellow')\n",
    "    axis.add_patch(pixel)\n",
    "\n",
    "    plt.annotate('pixel', (0.5, 0.65), xycoords='data')\n",
    "    plt.annotate('probe', (0.62, 0.03), xycoords='data')\n",
    "    plt.annotate('Riemann\\n rectangles', (0.15, 0.5), xycoords='data', rotation=-45)\n",
    "    \n",
    "    plt.axis('equal')\n",
    "    plt.xlim([0, 1])\n",
    "    plt.ylim([0, 1])\n",
    "    plt.yticks([])\n",
    "    plt.xticks([])\n",
    "    plt.axis('off')\n",
    "    \n",
    "f = plt.figure(figsize=(8.4/2.54, 8.4/2.54/2), dpi=150)\n",
    "\n",
    "plt.subplot(121)\n",
    "Riemann_model()\n",
    "plt.show()"
   ]
  },
  {
   "cell_type": "markdown",
   "metadata": {},
   "source": [
    "## Plot validation results"
   ]
  },
  {
   "cell_type": "code",
   "execution_count": 73,
   "metadata": {
    "collapsed": true
   },
   "outputs": [],
   "source": [
    "means = np.load('./data/new_coverage_validation_means.npy')\n",
    "std = np.load('./data/new_coverage_validation_std.npy')"
   ]
  },
  {
   "cell_type": "code",
   "execution_count": 83,
   "metadata": {},
   "outputs": [
    {
     "data": {
      "image/png": "[encoded data removed]",
      "text/plain": [
       "<matplotlib.figure.Figure at 0x7f9794e366a0>"
      ]
     },
     "metadata": {},
     "output_type": "display_data"
    }
   ],
   "source": [
    "f = plt.figure(figsize=(8.4/2.54, 8.4/2.54/2), dpi=150)\n",
    "\n",
    "plt.subplot(121)\n",
    "Riemann_model()\n",
    "\n",
    "plt.subplot(122)\n",
    "plt.errorbar(x=num_riemann, y=means, yerr=std)\n",
    "plt.xlabel('rectangles per voxel width')\n",
    "plt.ylabel('Percent error')\n",
    "plt.xlim([0, 32])\n",
    "plt.xticks([0, 8, 16, 24, 32])\n",
    "plt.ylim([-0.01, 0.01])\n",
    "\n",
    "# plt.tight_layout()\n",
    "# plt.savefig('./figures/validation/{}_coverage_validation.png'.format(A_range[A]), format='png',\n",
    "#         transparent=True, bbox_inches=None, pad_inches=0, dpi=600,\n",
    "#         frameon=False)\n",
    "\n",
    "plt.subplots_adjust(wspace=0.5, hspace=0.4, top=0.90, bottom=0.25, left=0.05, right=0.95)\n",
    "\n",
    "plt.savefig('./figures/coverage_validation.pdf', dpi=600)\n",
    "plt.savefig('./figures/coverage_validation.png', dpi=600)\n",
    "\n",
    "plt.show()"
   ]
  },
  {
   "cell_type": "code",
   "execution_count": null,
   "metadata": {
    "collapsed": true
   },
   "outputs": [],
   "source": []
  }
 ],
 "metadata": {
  "kernelspec": {
   "display_name": "Python 3",
   "language": "python",
   "name": "python3"
  },
  "language_info": {
   "codemirror_mode": {
    "name": "ipython",
    "version": 3
   },
   "file_extension": ".py",
   "mimetype": "text/x-python",
   "name": "python",
   "nbconvert_exporter": "python",
   "pygments_lexer": "ipython3",
   "version": "3.5.4"
  }
 },
 "nbformat": 4,
 "nbformat_minor": 2
}
