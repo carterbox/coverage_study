{
 "cells": [
  {
   "cell_type": "code",
   "execution_count": null,
   "metadata": {
    "collapsed": true
   },
   "outputs": [],
   "source": [
    "import numpy as np\n",
    "import matplotlib.pyplot as plt\n",
    "import tike\n",
    "import xdesign as xd\n",
    "\n",
    "SMALL_SIZE = 8\n",
    "MEDIUM_SIZE = 8\n",
    "BIGGER_SIZE = 8\n",
    "\n",
    "plt.rc('font', size=SMALL_SIZE)          # controls default text sizes\n",
    "plt.rc('axes', titlesize=SMALL_SIZE)     # fontsize of the axes title\n",
    "plt.rc('axes', labelsize=MEDIUM_SIZE)    # fontsize of the x and y labels\n",
    "plt.rc('xtick', labelsize=SMALL_SIZE)    # fontsize of the tick labels\n",
    "plt.rc('ytick', labelsize=SMALL_SIZE)    # fontsize of the tick labels\n",
    "plt.rc('legend', fontsize=SMALL_SIZE)    # legend fontsize\n",
    "plt.rc('figure', titlesize=BIGGER_SIZE)  # fontsize of the figure title"
   ]
  },
  {
   "cell_type": "code",
   "execution_count": null,
   "metadata": {},
   "outputs": [],
   "source": [
    "NPIXEL = 32\n",
    "PIXEL_SIZE = 1/NPIXEL\n",
    "TOTAL_TIME = 1.0\n",
    "region = np.array([[-PIXEL_SIZE, PIXEL_SIZE], [-1, 1], [-1, 1]])/2\n",
    "ideal_mean = TOTAL_TIME * PIXEL_SIZE\n",
    "S_FREQ = 1/2**11\n",
    "\n",
    "\n",
    "probe = tike.Probe(density_profile=None,\n",
    "                   width=PIXEL_SIZE,\n",
    "                   aspect=1.0,\n",
    "                   lines_per_cm=1/NPIXEL)\n",
    "\n",
    "def circle_density(x, y, radius=PIXEL_SIZE/2):\n",
    "    \"\"\"Return True for (x,y) contained by the circle with given radius\"\"\"\n",
    "    return x**2 + y**2 <= radius**2\n",
    "\n",
    "def get_mask(A):\n",
    "    \"\"\"Return a boolean mask for dimensions 1 & 2 of A\"\"\"\n",
    "    assert A.shape[0] == A.shape[1]\n",
    "    radius = A.shape[0] / 2.0\n",
    "    coords = np.arange(A.shape[0]) - A.shape[0] / 2.0 + 0.5,\n",
    "    x, y = np.meshgrid(coords, coords)\n",
    "    mask = circle_density(x, y, radius=radius)\n",
    "    return mask\n",
    "\n",
    "\n",
    "def get_metric(coverage):\n",
    "    \"\"\"Return the standard deviation from the ideal coverage from the region\n",
    "    inside the cylindrical mask\n",
    "    \"\"\"\n",
    "    ideal_mean = TOTAL_TIME * PIXEL_SIZE\n",
    "    if coverage.ndim > 3:\n",
    "        coverage = np.linalg.eigvalsh(coverage)\n",
    "    x = coverage[:, get_mask(coverage), :].flatten()\n",
    "    metric = np.sqrt(np.sum((ideal_mean/2 - x)**2) / x.size) - np.mean(x)\n",
    "    return metric\n",
    "\n",
    "def fly2D(t, N_rotation=0):\n",
    "    h = t / TOTAL_TIME - 0.5\n",
    "    v = 0 * t\n",
    "    theta = np.pi/3 +  N_rotation * 2 * np.pi * t / TOTAL_TIME\n",
    "    return theta, h, v\n",
    "\n",
    "def raster2Dt(t, N_raster=1):\n",
    "    h = tike.triangle(0.5, N_raster/2, np.pi/2, t)\n",
    "    v = 0 * t\n",
    "    theta = np.pi/3 + 2 * np.pi * t / TOTAL_TIME\n",
    "    return theta, h, v\n",
    "\n",
    "def raster2Ds(t, N_raster=1):\n",
    "    h = tike.sinusoid(0.5, N_raster/2, np.pi/2, t)\n",
    "    v = 0 * t\n",
    "    theta = np.pi/3 + 2 * np.pi * t / TOTAL_TIME\n",
    "    return theta, h, v\n",
    "\n",
    "def semifly(t, N_raster=1):\n",
    "    h = tike.triangle(0.5, N_raster/2, np.pi/2, t)\n",
    "    v = 0 * t\n",
    "    theta = np.pi/3 + tike.staircase(np.pi/N_raster, N_raster, 0, t)\n",
    "    return theta, h, v\n",
    "\n",
    "def add_noise(m, dwell, total_time=TOTAL_TIME, total_photons=1.0, noise_percent=0.1):\n",
    "    m_to_photon = dwell * total_photons / total_time\n",
    "    p = (m * m_to_photon)\n",
    "    p1 = p * (1 + noise_percent * np.random.normal(size=m.shape,scale=1))\n",
    "    m1 = p1 / m_to_photon\n",
    "    return m1"
   ]
  },
  {
   "cell_type": "code",
   "execution_count": null,
   "metadata": {},
   "outputs": [],
   "source": [
    "np.random.seed(0)\n",
    "phantom = xd.DogaCircles(n_sizes=4, size_ratio=11/16, n_shuffles=64)\n",
    "truth = xd.sidebyside(phantom, NPIXEL).T\n",
    "plt.show()"
   ]
  },
  {
   "cell_type": "code",
   "execution_count": null,
   "metadata": {},
   "outputs": [],
   "source": [
    "mask = get_mask(truth)\n",
    "plt.imshow(mask)\n",
    "plt.show()\n",
    "truth[~mask] = 0"
   ]
  },
  {
   "cell_type": "code",
   "execution_count": null,
   "metadata": {
    "collapsed": true
   },
   "outputs": [],
   "source": [
    "xprobe = xd.Probe(size=PIXEL_SIZE)\n",
    "gmin = region[:, 0]\n",
    "gsize = region[:, 1] - gmin\n",
    "num_rotations = 2 ** np.arange(2,6)\n",
    "num_repeats = 1"
   ]
  },
  {
   "cell_type": "code",
   "execution_count": null,
   "metadata": {},
   "outputs": [],
   "source": [
    "gmin, gsize, num_rotations"
   ]
  },
  {
   "cell_type": "markdown",
   "metadata": {},
   "source": [
    "# FLY2D\n",
    "More rotations than raster traversals\n"
   ]
  },
  {
   "cell_type": "code",
   "execution_count": null,
   "metadata": {
    "collapsed": true,
    "scrolled": true
   },
   "outputs": [],
   "source": [
    "# for R in num_rotations:\n",
    "#     kwargs = {'N_rotation' : R}\n",
    "#     tstep_guess = TOTAL_TIME / (NPIXEL * max(1, R))\n",
    "#     procedure = probe.procedure(trajectory=fly2D,\n",
    "#                               pixel_size=PIXEL_SIZE,\n",
    "#                               tmin=0, tmax=TOTAL_TIME, tstep=tstep_guess,\n",
    "#                               tkwargs=kwargs)\n",
    "#     theta, h, v, dwell = procedure\n",
    "#     m = xprobe.measure(phantom, theta, h, v)\n",
    "#     data = [m, theta, h, v, dwell]\n",
    "#     np.save('./data/doga_grams/fly2D/fly2D_R{:03d}.npy'.format(R), data)"
   ]
  },
  {
   "cell_type": "code",
   "execution_count": null,
   "metadata": {
    "scrolled": false
   },
   "outputs": [],
   "source": [
    "method = 'fly2D'\n",
    "for R in num_rotations:\n",
    "    D = np.load('./data/doga_grams/{0}/{0}_R{1:03d}.npy'.format(method, R))\n",
    "    m, theta, h, v, dwell = D\n",
    "    for n in range(num_repeats):\n",
    "        m1 = add_noise(m, dwell)\n",
    "        init = np.zeros([NPIXEL, NPIXEL])\n",
    "        recons = xd.sirt(gmin, gsize, -np.log(m1), theta, h, v, init, niter=5*14, save_interval=5)\n",
    "        for j in range(len(recons)):\n",
    "            I = j*5\n",
    "            np.save('./data/doga_recons/{0}/{0}_R{1:03d}_I{2:03d}_{3:03d}.npy'.format(method, R, I, n), recons[j])"
   ]
  },
  {
   "cell_type": "code",
   "execution_count": null,
   "metadata": {
    "collapsed": true
   },
   "outputs": [],
   "source": [
    "quality_data = dict()\n",
    "method = 'fly2D'\n",
    "\n",
    "nlevels=3\n",
    "w = [0.0448, 0.2858, 0.3001, 0.2363, 0.1333]\n",
    "\n",
    "for R in num_rotations:\n",
    "    I = 0\n",
    "    iterations = list()\n",
    "    quality = list()\n",
    "    std = list()\n",
    "    for I in range(0, 75, 5):\n",
    "        repeats = list()\n",
    "        for k in range(num_repeats):\n",
    "            recons = np.load('./data/doga_recons/{0}/{0}_R{1:03d}_I{2:03d}_{3:03d}.npy'.format(method, R, I, k))\n",
    "            recons[~mask] = 0\n",
    "            iq = xd.ImageQuality(truth, recons)\n",
    "            iq.compute_quality(nlevels=nlevels)\n",
    "            repeats.append(np.prod(iq.mets ** (w[0:nlevels] / np.sum(w[0:nlevels]))))\n",
    "        iterations.append(I)\n",
    "        quality.append(np.mean(repeats))\n",
    "        std.append(np.std(repeats))\n",
    "    quality_data[R] = [iterations, quality, std]\n",
    "\n",
    "fly2D_quality_data = quality_data"
   ]
  },
  {
   "cell_type": "markdown",
   "metadata": {},
   "source": [
    "# Semifly\n",
    "\n",
    "More traversals than rotations\n"
   ]
  },
  {
   "cell_type": "code",
   "execution_count": null,
   "metadata": {
    "collapsed": true,
    "scrolled": true
   },
   "outputs": [],
   "source": [
    "# for R in num_rotations:\n",
    "#     kwargs = {'N_raster' : R}\n",
    "#     tstep_guess = TOTAL_TIME / (NPIXEL * max(1, R))\n",
    "#     theta = np.array([])\n",
    "#     h = np.array([])\n",
    "#     v = np.array([])\n",
    "#     dwell = np.array([])\n",
    "#     for i in range(R):\n",
    "#         procedure = probe.procedure(trajectory=semifly,\n",
    "#                                   pixel_size=PIXEL_SIZE,\n",
    "#                                   tmin=i/R*TOTAL_TIME, tmax=(i+1)/R*TOTAL_TIME, tstep=tstep_guess,\n",
    "#                                   tkwargs=kwargs)\n",
    "#         thetai, hi, vi, di = procedure\n",
    "#         theta = np.concatenate([theta, thetai])\n",
    "#         h = np.concatenate([h, hi])\n",
    "#         v = np.concatenate([v, vi])\n",
    "#         dwell = np.concatenate([dwell, di])\n",
    "#     m = xprobe.measure(phantom, theta, h, v)\n",
    "#     data = [m, theta, h, v, dwell]\n",
    "#     np.save('./data/doga_grams/semifly/semifly_R{:03d}.npy'.format(R), data)"
   ]
  },
  {
   "cell_type": "code",
   "execution_count": null,
   "metadata": {
    "scrolled": true
   },
   "outputs": [],
   "source": [
    "method = 'semifly'\n",
    "for R in num_rotations:\n",
    "    D = np.load('./data/doga_grams/{0}/{0}_R{1:03d}.npy'.format(method, R))\n",
    "    m, theta, h, v, dwell = D\n",
    "    for n in range(1):\n",
    "        m1 = add_noise(m, dwell)\n",
    "        init = np.zeros([NPIXEL, NPIXEL])\n",
    "        recons = xd.sirt(gmin, gsize, -np.log(m1), theta, h, v, init, niter=5*14, save_interval=5)\n",
    "        for j in range(len(recons)):\n",
    "            I = j*5\n",
    "            np.save('./data/doga_recons/{0}/{0}_R{1:03d}_I{2:03d}_{3:03d}.npy'.format(method, R, I, n), recons[j])"
   ]
  },
  {
   "cell_type": "code",
   "execution_count": null,
   "metadata": {
    "collapsed": true
   },
   "outputs": [],
   "source": [
    "quality_data = dict()\n",
    "method = 'semifly'\n",
    "\n",
    "nlevels=3\n",
    "w = [0.0448, 0.2858, 0.3001, 0.2363, 0.1333]\n",
    "\n",
    "for R in num_rotations:\n",
    "    I = 0\n",
    "    iterations = list()\n",
    "    quality = list()\n",
    "    std = list()\n",
    "    for I in range(0, 75, 5):\n",
    "        repeats = list()\n",
    "        for k in range(num_repeats):\n",
    "            recons = np.load('./data/doga_recons/{0}/{0}_R{1:03d}_I{2:03d}_{3:03d}.npy'.format(method, R, I, k))\n",
    "            recons[~mask] = 0\n",
    "            iq = xd.ImageQuality(truth, recons)\n",
    "            iq.compute_quality(nlevels=nlevels)\n",
    "            repeats.append(np.prod(iq.mets ** (w[0:nlevels] / np.sum(w[0:nlevels]))))\n",
    "        iterations.append(I)\n",
    "        quality.append(np.mean(repeats))\n",
    "        std.append(np.std(repeats))\n",
    "    quality_data[R] = [iterations, quality, std]\n",
    "\n",
    "semifly_quality_data = quality_data"
   ]
  },
  {
   "cell_type": "markdown",
   "metadata": {},
   "source": [
    "# Raster2Dt\n",
    "More traversals than rotations\n"
   ]
  },
  {
   "cell_type": "code",
   "execution_count": null,
   "metadata": {
    "collapsed": true,
    "scrolled": true
   },
   "outputs": [],
   "source": [
    "# for R in num_rotations:\n",
    "#     kwargs = {'N_raster' : R}\n",
    "#     tstep_guess = TOTAL_TIME / (NPIXEL * max(1, R))\n",
    "#     procedure = probe.procedure(trajectory=raster2Dt,\n",
    "#                               pixel_size=PIXEL_SIZE,\n",
    "#                               tmin=0, tmax=TOTAL_TIME, tstep=tstep_guess,\n",
    "#                               tkwargs=kwargs)\n",
    "#     theta, h, v, dwell = procedure\n",
    "#     m = xprobe.measure(phantom, theta, h, v)\n",
    "#     data = [m, theta, h, v, dwell]\n",
    "#     np.save('./data/doga_grams/raster2Dt/raster2Dt_R{:03d}.npy'.format(R), data)"
   ]
  },
  {
   "cell_type": "code",
   "execution_count": null,
   "metadata": {
    "collapsed": true,
    "scrolled": true
   },
   "outputs": [],
   "source": [
    "method = 'raster2Dt'\n",
    "for R in num_rotations:\n",
    "    D = np.load('./data/doga_grams/{0}/{0}_R{1:03d}.npy'.format(method, R))\n",
    "    m, theta, h, v, dwell = D\n",
    "    for n in range(1):\n",
    "        m1 = add_noise(m, dwell)\n",
    "        init = np.zeros([NPIXEL, NPIXEL])\n",
    "        recons = xd.sirt(gmin, gsize, -np.log(m1), theta, h, v, init, niter=5*14, save_interval=5)\n",
    "        for j in range(len(recons)):\n",
    "            I = j*5\n",
    "            np.save('./data/doga_recons/{0}/{0}_R{1:03d}_I{2:03d}_{3:03d}.npy'.format(method, R, I, n), recons[j])"
   ]
  },
  {
   "cell_type": "code",
   "execution_count": null,
   "metadata": {
    "collapsed": true
   },
   "outputs": [],
   "source": [
    "quality_data = dict()\n",
    "method = 'raster2Dt'\n",
    "\n",
    "nlevels=3\n",
    "w = [0.0448, 0.2858, 0.3001, 0.2363, 0.1333]\n",
    "\n",
    "for R in num_rotations:\n",
    "    I = 0\n",
    "    iterations = list()\n",
    "    quality = list()\n",
    "    std = list()\n",
    "    for I in range(0, 75, 5):\n",
    "        repeats = list()\n",
    "        for k in range(num_repeats):\n",
    "            recons = np.load('./data/doga_recons/{0}/{0}_R{1:03d}_I{2:03d}_{3:03d}.npy'.format(method, R, I, k))\n",
    "            recons[~mask] = 0\n",
    "            iq = xd.ImageQuality(truth, recons)\n",
    "            iq.compute_quality(nlevels=nlevels)\n",
    "            repeats.append(np.prod(iq.mets ** (w[0:nlevels] / np.sum(w[0:nlevels]))))\n",
    "        iterations.append(I)\n",
    "        quality.append(np.mean(repeats))\n",
    "        std.append(np.std(repeats))\n",
    "    quality_data[R] = [iterations, quality, std]\n",
    "\n",
    "raster2Dt_quality_data = quality_data"
   ]
  },
  {
   "cell_type": "markdown",
   "metadata": {},
   "source": [
    "# Raster2Ds\n",
    "More traversals than rotations\n"
   ]
  },
  {
   "cell_type": "code",
   "execution_count": null,
   "metadata": {
    "collapsed": true,
    "scrolled": true
   },
   "outputs": [],
   "source": [
    "# for R in num_rotations:\n",
    "#     kwargs = {'N_raster' : R}\n",
    "#     tstep_guess = TOTAL_TIME / (NPIXEL * max(1, R))\n",
    "#     procedure = probe.procedure(trajectory=raster2Ds,\n",
    "#                               pixel_size=PIXEL_SIZE,\n",
    "#                               tmin=0, tmax=TOTAL_TIME, tstep=tstep_guess,\n",
    "#                               tkwargs=kwargs)\n",
    "#     theta, h, v, dwell = procedure\n",
    "#     m = xprobe.measure(phantom, theta, h, v)\n",
    "#     data = [m, theta, h, v, dwell]\n",
    "#     np.save('./data/doga_grams/raster2Ds/raster2Ds_R{:03d}.npy'.format(R), data)"
   ]
  },
  {
   "cell_type": "code",
   "execution_count": null,
   "metadata": {
    "collapsed": true,
    "scrolled": true
   },
   "outputs": [],
   "source": [
    "method = 'raster2Ds'\n",
    "for R in num_rotations:\n",
    "    D = np.load('./data/doga_grams/{0}/{0}_R{1:03d}.npy'.format(method, R))\n",
    "    m, theta, h, v, dwell = D\n",
    "    for n in range(1):\n",
    "        m1 = add_noise(m, dwell)\n",
    "        init = np.zeros([NPIXEL, NPIXEL])\n",
    "        recons = xd.sirt(gmin, gsize, -np.log(m1), theta, h, v, init, niter=5*14, save_interval=5)\n",
    "        for j in range(len(recons)):\n",
    "            I = j*5\n",
    "            np.save('./data/doga_recons/{0}/{0}_R{1:03d}_I{2:03d}_{3:03d}.npy'.format(method, R, I, n), recons[j])"
   ]
  },
  {
   "cell_type": "code",
   "execution_count": null,
   "metadata": {
    "collapsed": true
   },
   "outputs": [],
   "source": [
    "quality_data = dict()\n",
    "method = 'raster2Ds'\n",
    "\n",
    "nlevels=3\n",
    "w = [0.0448, 0.2858, 0.3001, 0.2363, 0.1333]\n",
    "\n",
    "for R in num_rotations:\n",
    "    I = 0\n",
    "    iterations = list()\n",
    "    quality = list()\n",
    "    std = list()\n",
    "    for I in range(0, 75, 5):\n",
    "        repeats = list()\n",
    "        for k in range(num_repeats):\n",
    "            recons = np.load('./data/doga_recons/{0}/{0}_R{1:03d}_I{2:03d}_{3:03d}.npy'.format(method, R, I, k))\n",
    "            recons[~mask] = 0\n",
    "            iq = xd.ImageQuality(truth, recons)\n",
    "            iq.compute_quality(nlevels=nlevels)\n",
    "            repeats.append(np.prod(iq.mets ** (w[0:nlevels] / np.sum(w[0:nlevels]))))\n",
    "        iterations.append(I)\n",
    "        quality.append(np.mean(repeats))\n",
    "        std.append(np.std(repeats))\n",
    "    quality_data[R] = [iterations, quality, std]\n",
    "\n",
    "raster2Ds_quality_data = quality_data"
   ]
  },
  {
   "cell_type": "code",
   "execution_count": null,
   "metadata": {},
   "outputs": [],
   "source": [
    "R = 1\n",
    "m, theta, h, v, dwell = np.load('./data/doga_grams/fly2D/fly2D_R{:03d}.npy'.format(R))\n",
    "m.shape"
   ]
  },
  {
   "cell_type": "code",
   "execution_count": null,
   "metadata": {},
   "outputs": [],
   "source": [
    "m, theta, h, v, dwell = np.load('./data/doga_grams/semifly/semifly_R{:03d}.npy'.format(R))\n",
    "m.shape"
   ]
  },
  {
   "cell_type": "code",
   "execution_count": null,
   "metadata": {},
   "outputs": [],
   "source": [
    "m, theta, h, v, dwell = np.load('./data/doga_grams/raster2Ds/raster2Ds_R{:03d}.npy'.format(R))\n",
    "m.shape"
   ]
  },
  {
   "cell_type": "code",
   "execution_count": null,
   "metadata": {},
   "outputs": [],
   "source": [
    "m, theta, h, v, dwell = np.load('./data/doga_grams/raster2Dt/raster2Dt_R{:03d}.npy'.format(R))\n",
    "m.shape"
   ]
  },
  {
   "cell_type": "code",
   "execution_count": null,
   "metadata": {
    "collapsed": true
   },
   "outputs": [],
   "source": [
    "# np.save('./data/raster2Ds_qd.npy', raster2Ds_quality_data)\n",
    "# np.save('./data/fly2D_qd.npy', fly2D_quality_data)\n",
    "# np.save('./data/raster2Dt_qd.npy', raster2Dt_quality_data)\n",
    "# np.save('./data/semifly_qd.npy', semifly_quality_data)"
   ]
  },
  {
   "cell_type": "code",
   "execution_count": null,
   "metadata": {
    "collapsed": true
   },
   "outputs": [],
   "source": [
    "raster2Ds_quality_data = np.load('./data/raster2Ds_qd.npy').item()\n",
    "fly2D_quality_data = np.load('./data/fly2D_qd.npy').item()\n",
    "raster2Dt_quality_data = np.load('./data/raster2Dt_qd.npy').item()\n",
    "semifly_quality_data = np.load('./data/semifly_qd.npy').item()"
   ]
  },
  {
   "cell_type": "markdown",
   "metadata": {},
   "source": [
    "# Plot quality results combined"
   ]
  },
  {
   "cell_type": "code",
   "execution_count": null,
   "metadata": {},
   "outputs": [],
   "source": [
    "import matplotlib\n",
    "matplotlib.rcParams.update({'font.size': 8})\n",
    "\n",
    "\n",
    "plt.figure(figsize=(3.3, 2.), dpi=200, frameon=False)\n",
    "for R in num_rotations:\n",
    "    \n",
    "    A = plt.subplot(1,4,1)\n",
    "    plt.ylabel('MS-SSIM quality index',  fontsize=8)\n",
    "    iterations, quality, std = semifly_quality_data[R]\n",
    "    plt.plot(iterations, quality, '-', color=plt.cm.viridis(R/32))\n",
    "    plt.xlabel('Conventional',  fontsize=8)\n",
    "\n",
    "    B = plt.subplot(1,4,2, sharey=A, sharex=A)\n",
    "    iterations, quality, std = fly2D_quality_data[R]\n",
    "    plt.plot(iterations, quality, '-', color=plt.cm.viridis(R/32))\n",
    "    plt.setp(B.get_yticklabels(), visible=False)\n",
    "    plt.xlabel('RAFA', fontsize=8)\n",
    "\n",
    "    C = plt.subplot(1,4,3, sharey=A, sharex=A)\n",
    "    iterations, quality, std = raster2Dt_quality_data[R]\n",
    "    plt.plot(iterations, quality, '-', color=plt.cm.viridis(R/32))\n",
    "    plt.setp(C.get_yticklabels(), visible=False)\n",
    "    plt.xlabel('triangular', fontsize=8)\n",
    "\n",
    "    \n",
    "    D = plt.subplot(1,4,4, sharey=A, sharex=A)\n",
    "    iterations, quality, std = raster2Ds_quality_data[R]\n",
    "    plt.plot(iterations, quality, '-', color=plt.cm.viridis(R/32))\n",
    "    plt.setp(D.get_yticklabels(), visible=False)\n",
    "    plt.xlabel('sinusoidal', fontsize=8)\n",
    "    \n",
    "plt.suptitle('SIRT reconstruction quality',  fontsize=8)\n",
    "# plt.legend(num_rotations, loc='upper center')\n",
    "plt.subplots_adjust(wspace=0.1, top=0.90, bottom=0.2, left=0.15)\n",
    "plt.savefig('./figures/converge_fly_quality.pdf', dpi=600, pad_inches=0)\n",
    "plt.savefig('./figures/converge_fly_quality.png', dpi=600, pad_inches=0)\n",
    "plt.show()"
   ]
  },
  {
   "cell_type": "code",
   "execution_count": null,
   "metadata": {},
   "outputs": [],
   "source": [
    "semifly_quality_data"
   ]
  },
  {
   "cell_type": "code",
   "execution_count": null,
   "metadata": {},
   "outputs": [],
   "source": [
    "plt.figure(figsize=(8.4/2.54, 6.5/2.54), dpi=200, frameon=False)\n",
    "\n",
    "A = plt.subplot(len(num_rotations), 1, 1)\n",
    "plt.xlim([0, 1])\n",
    "\n",
    "for i, R in enumerate(num_rotations):\n",
    "    plt.subplot(len(num_rotations),1,len(num_rotations)-i, sharex=A)\n",
    "    max_qual = list()\n",
    "    std_qual = list()\n",
    "    iterations, quality, std = semifly_quality_data[R]\n",
    "    j = np.argmax(quality)\n",
    "    max_qual.append(quality[j])\n",
    "    std_qual.append(std[j])\n",
    "    iterations, quality, std = fly2D_quality_data[R]\n",
    "    j = np.argmax(quality)\n",
    "    max_qual.append(quality[j])\n",
    "    std_qual.append(std[j])\n",
    "    iterations, quality, std = raster2Dt_quality_data[R]\n",
    "    j = np.argmax(quality)\n",
    "    max_qual.append(quality[j])\n",
    "    std_qual.append(std[j])\n",
    "    iterations, quality, std = raster2Ds_quality_data[R]\n",
    "    j = np.argmax(quality)\n",
    "    max_qual.append(quality[j])\n",
    "    std_qual.append(std[j])\n",
    "    \n",
    "    plt.annotate(\"{}\".format(R), (1.02, 0.5),\n",
    "                 xycoords='axes fraction', va='center', ha='left')\n",
    "    \n",
    "    plt.barh([0,1,2,3], max_qual, xerr=std_qual,\n",
    "             color=plt.cm.viridis([0, 0.333, 0.666, 1.0]),\n",
    "             ecolor=plt.cm.viridis([1.0, 1.0, 0, 0]))\n",
    "    \n",
    "    plt.gca().set_yticks([0,1,2,3])\n",
    "    plt.gca().set_yticklabels(['conventional', 'RAFA', 'triangular', 'sinudoidal'])\n",
    "    if i != 0:\n",
    "        plt.setp(plt.gca().get_xticklabels(), visible=False)\n",
    "    else:\n",
    "        plt.xlabel('Max Reconstruction MS-SSIM Quality')\n",
    "    \n",
    "# plt.suptitle('SIRT reconstruction quality',  fontsize=8)\n",
    "# plt.legend(num_rotations, loc='upper center')\n",
    "plt.subplots_adjust(hspace=0.25, top=0.99, bottom=0.15, left=0.25)\n",
    "plt.savefig('./figures/fly_quality.pdf', dpi=600, pad_inches=0)\n",
    "plt.savefig('./figures/fly_quality.png', dpi=600, pad_inches=0)\n",
    "plt.show()"
   ]
  },
  {
   "cell_type": "code",
   "execution_count": null,
   "metadata": {},
   "outputs": [],
   "source": [
    "I = 20\n",
    "plt.figure(figsize=(8.4/2.54, 8.4/2.54), dpi=200, frameon=False)\n",
    "truth_nan = truth.copy()\n",
    "truth_nan[~mask] = np.nan\n",
    "\n",
    "for i in range(len(num_rotations)):\n",
    "    \n",
    "    R = num_rotations[i]\n",
    "    \n",
    "    A = plt.subplot(len(num_rotations), 4, 4*(len(num_rotations) -1 - i) +1)\n",
    "#     plt.imshow(truth_nan, origin='lower', cmap=plt.cm.inferno)\n",
    "#     plt.setp(A.get_xticklabels(), visible=False)\n",
    "#     # plt.annotate('(a)', (0,0), color='white', va='bottom')\n",
    "#     plt.axis('off')\n",
    "    plt.annotate(R, (-0.1, 0.5), xycoords='axes fraction', ha='right', fontsize=8)\n",
    "#     if i == 0:\n",
    "#         plt.annotate('truth', (0.5, -0.2), xycoords='axes fraction', ha='center', fontsize=8)\n",
    "        \n",
    "#     A = plt.subplot(len(num_rotations),4,4*(5 - i) +1)\n",
    "    recons = np.load('./data/doga_recons/semifly/semifly_R{:03d}_I{:03d}_000.npy'.format(R, I))\n",
    "    recons[~mask] = np.nan\n",
    "#     print(recons)\n",
    "    plt.imshow(recons, origin='lower', cmap=plt.cm.inferno)\n",
    "    plt.setp(A.get_yticklabels(), visible=False)\n",
    "    plt.setp(A.get_xticklabels(), visible=False)\n",
    "    # plt.annotate('(b)', (0,0), color='white', va='bottom')\n",
    "    plt.axis('off')\n",
    "    if i == 0:\n",
    "        plt.annotate('Conventional', (0.5, -0.2), xycoords='axes fraction', ha='center', fontsize=8)\n",
    "\n",
    "    B = plt.subplot(len(num_rotations), 4, 4*(len(num_rotations) -1 - i) +2)\n",
    "    recons = np.load('./data/doga_recons/fly2D/fly2D_R{:03d}_I{:03d}_000.npy'.format(R, I))\n",
    "    recons[~mask] = np.nan\n",
    "    plt.imshow(recons, origin='lower', cmap=plt.cm.inferno)\n",
    "    plt.setp(B.get_yticklabels(), visible=False)\n",
    "    plt.setp(B.get_xticklabels(), visible=False)\n",
    "    # plt.annotate('(b)', (0,0), color='white', va='bottom')\n",
    "    plt.axis('off')\n",
    "    if i == 0:\n",
    "        plt.annotate('RAFA', (0.5, -0.2), xycoords='axes fraction', ha='center', fontsize=8)\n",
    "\n",
    "    C = plt.subplot(len(num_rotations),4,4*(len(num_rotations) -1 - i) +3)\n",
    "    recons = np.load('./data/doga_recons/raster2Dt/raster2Dt_R{:03d}_I{:03d}_000.npy'.format(R, I))\n",
    "    recons[~mask] = np.nan\n",
    "    plt.imshow(recons, origin='lower', cmap=plt.cm.inferno)\n",
    "    # plt.annotate('(c)', (0,0), color='white', va='bottom')\n",
    "    plt.axis('off')\n",
    "\n",
    "    if i == 0:\n",
    "        plt.annotate('triangular', (0.5, -0.2), xycoords='axes fraction', ha='center', fontsize=8)\n",
    "\n",
    "    D = plt.subplot(len(num_rotations),4, 4*(len(num_rotations) -1 - i) +4)\n",
    "    recons = np.load('./data/doga_recons/raster2Ds/raster2Ds_R{:03d}_I{:03d}_000.npy'.format(R, I))\n",
    "    recons[~mask] = np.nan\n",
    "    plt.imshow(recons, origin='lower', cmap=plt.cm.inferno)\n",
    "    plt.setp(D.get_yticklabels(), visible=False)\n",
    "    # plt.annotate('(d)', (0,0), color='white', va='bottom')\n",
    "    plt.axis('off')\n",
    "\n",
    "    if i == 0:\n",
    "        plt.annotate('sinusoidal', (0.5, -0.2), xycoords='axes fraction', ha='center', fontsize=8)\n",
    "        \n",
    "# plt.tight_layout()\n",
    "plt.subplots_adjust(wspace=0.05, hspace=0.05, top=0.95, bottom=0.05)\n",
    "plt.savefig('./figures/fly_recon_comparison.pdf', dpi=600, pad_inches=0)\n",
    "plt.savefig('./figures/fly_recon_comparison.png', dpi=600, pad_inches=0)\n",
    "plt.show()"
   ]
  },
  {
   "cell_type": "code",
   "execution_count": null,
   "metadata": {
    "collapsed": true
   },
   "outputs": [],
   "source": []
  },
  {
   "cell_type": "code",
   "execution_count": null,
   "metadata": {
    "collapsed": true
   },
   "outputs": [],
   "source": []
  }
 ],
 "metadata": {
  "kernelspec": {
   "display_name": "Python 3",
   "language": "python",
   "name": "python3"
  },
  "language_info": {
   "codemirror_mode": {
    "name": "ipython",
    "version": 3
   },
   "file_extension": ".py",
   "mimetype": "text/x-python",
   "name": "python",
   "nbconvert_exporter": "python",
   "pygments_lexer": "ipython3",
   "version": "3.5.4"
  }
 },
 "nbformat": 4,
 "nbformat_minor": 2
}
